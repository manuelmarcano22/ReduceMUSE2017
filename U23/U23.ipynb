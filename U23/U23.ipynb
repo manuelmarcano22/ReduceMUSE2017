{
 "cells": [
  {
   "cell_type": "markdown",
   "metadata": {},
   "source": [
    "#\n",
    "\n",
    "\n",
    "\n",
    "from KT 2003 citing Reid and Gizis 1998\n",
    "\n",
    "$(m-M)_v = 12.69 \\pm 0.15$ and $E(B-V) = 0.18$\n",
    "\n",
    "\n",
    "$m - M = 5 \\log (\\frac{d}{10})$ where m is the apparent magnitude, M the absolute and d the distance in parsecs.\n",
    "\n",
    "The say:\n",
    "\n",
    "$<M_v>"
   ]
  },
  {
   "cell_type": "code",
   "execution_count": null,
   "metadata": {},
   "outputs": [],
   "source": []
  }
 ],
 "metadata": {
  "kernelspec": {
   "display_name": "Python 3",
   "language": "python",
   "name": "python3"
  },
  "language_info": {
   "codemirror_mode": {
    "name": "ipython",
    "version": 3
   },
   "file_extension": ".py",
   "mimetype": "text/x-python",
   "name": "python",
   "nbconvert_exporter": "python",
   "pygments_lexer": "ipython3",
   "version": "3.7.2"
  }
 },
 "nbformat": 4,
 "nbformat_minor": 2
}
