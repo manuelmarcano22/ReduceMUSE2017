{
 "cells": [
  {
   "cell_type": "code",
   "execution_count": 10,
   "metadata": {},
   "outputs": [
    {
     "name": "stderr",
     "output_type": "stream",
     "text": [
      "Warning: No reference frequency found.  Velocity transformations will not be possible unless you set a reference frequency/wavelength\n"
     ]
    },
    {
     "data": {
      "application/vnd.jupyter.widget-view+json": {
       "model_id": "39e33d8a348f441b98ca93f1dba32af0",
       "version_major": 2,
       "version_minor": 0
      },
      "text/plain": [
       "FigureCanvasNbAgg()"
      ]
     },
     "metadata": {},
     "output_type": "display_data"
    },
    {
     "name": "stderr",
     "output_type": "stream",
     "text": [
      "WARNING: `reset_selection` was set, so `exclude` is being ignored. [pyspeckit.spectrum.baseline]\n",
      "divide by zero encountered in true_divide\n",
      "invalid value encountered in true_divide\n",
      "\n",
      "Legend.draggable() is drepecated in favor of Legend.set_draggable(). Legend.draggable may be reintroduced as a property in future releases.\n"
     ]
    }
   ],
   "source": [
    "\"\"\"\n",
    "Example demonstrating how to fit a complex H-alpha profile after\n",
    "subtracting off a satellite line (in this case, He I 6678.151704)\n",
    "\"\"\"\n",
    "import pyspeckit\n",
    "\n",
    "sp = pyspeckit.Spectrum('sn2009ip_halpha.fits')\n",
    "\n",
    "# start by plotting a small region around the H-alpha line\n",
    "sp.plotter(xmin=6100,xmax=7000,ymax=2.23,ymin=0)\n",
    "\n",
    "# the baseline (continuum) fit will be 2nd order, and excludes \"bad\"\n",
    "# parts of the spectrum\n",
    "# The exclusion zone was selected interatively\n",
    "# (i.e., cursor hovering over the spectrum)\n",
    "sp.baseline(xmin=6100, xmax=7000,\n",
    "        exclude=[6450,6746,6815,6884,7003,7126,7506,7674,8142,8231],\n",
    "        subtract=False, reset_selection=True, highlight_fitregion=True,\n",
    "        order=2)\n",
    "\n",
    "# Fit a 4-parameter voigt (figured out through a series if guess and check fits)\n",
    "sp.specfit(guesses=[2.4007096541802202,  6563.2307968382256, 3.5653446153950314,  1,\n",
    "                    0.53985149324131965, 6564.3460908526877, 19.443226155616617,  1,\n",
    "                    0.11957267912208754, 6678.3853431367716, 4.1892742162283181,  1,\n",
    "                    0.10506431180136294, 6589.9310414408683, 72.378997529374672,  1,],\n",
    "                    fittype='voigt')\n",
    "\n",
    "# Now overplot the fitted components with an offset so we can see them\n",
    "# the add_baseline=True bit means that each component will be displayed\n",
    "# with the \"Continuum\" added\n",
    "# If this was off, the components would be displayed at y=0\n",
    "# the component_yoffset is the offset to add to the continuum for plotting\n",
    "# only (a constant)\n",
    "sp.specfit.plot_components(add_baseline=True,component_yoffset=-0.2)\n",
    "\n",
    "# Now overplot the residuals on the same graph by specifying which axis to overplot it on\n",
    "# clear=False is needed to keep the original fitted plot drawn\n",
    "# yoffset is the offset from y=zero\n",
    "sp.specfit.plotresiduals(axis=sp.plotter.axis,clear=False,yoffset=-0.30,label=False)"
   ]
  },
  {
   "cell_type": "code",
   "execution_count": null,
   "metadata": {},
   "outputs": [],
   "source": []
  }
 ],
 "metadata": {
  "kernelspec": {
   "display_name": "Python 3",
   "language": "python",
   "name": "python3"
  },
  "language_info": {
   "codemirror_mode": {
    "name": "ipython",
    "version": 3
   },
   "file_extension": ".py",
   "mimetype": "text/x-python",
   "name": "python",
   "nbconvert_exporter": "python",
   "pygments_lexer": "ipython3",
   "version": "3.7.2"
  }
 },
 "nbformat": 4,
 "nbformat_minor": 2
}
