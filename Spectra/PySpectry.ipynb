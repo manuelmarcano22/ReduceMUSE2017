{
 "cells": [
  {
   "cell_type": "code",
   "execution_count": 8,
   "metadata": {},
   "outputs": [],
   "source": [
    "import pyspeckit as ps\n",
    "from astropy.io import fits\n",
    "%matplotlib widget"
   ]
  },
  {
   "cell_type": "code",
   "execution_count": 2,
   "metadata": {},
   "outputs": [
    {
     "name": "stderr",
     "output_type": "stream",
     "text": [
      "'10**(-20)*erg/s/cm**2/Angstrom' contains multiple slashes, which is discouraged by the FITS standard\n"
     ]
    }
   ],
   "source": [
    "f = fits.open('../Observation1/data/FixedAstrometryDATACUBE_FINAL.fits')\n",
    "\n",
    "c = ps.Cube(f[1])"
   ]
  },
  {
   "cell_type": "code",
   "execution_count": 43,
   "metadata": {},
   "outputs": [
    {
     "name": "stdout",
     "output_type": "stream",
     "text": [
      "INFO: Left region selection unchanged.  xminpix, xmaxpix: 0,3682 [pyspeckit.spectrum.interactive]\n"
     ]
    }
   ],
   "source": [
    "\n",
    "\n",
    "\n",
    "\n",
    "\n",
    "spec = c.get_apspec((78.478, 39.38, 2), method='sum') \n",
    "\n",
    "back = c.get_apspec((61.657, 36.675, 2), method='sum')   \n",
    "\n",
    "\n",
    "\n",
    "spec.baseline(exclude=[6550,6580], order=1)\n",
    "spec.crop(6500., 6600, unit='angstrom') \n",
    "#s = spec-back\n",
    "spec.specfit(guesses=[370.,6564.,1., -2.9e3,6567.,1.], \n",
    "             fittype='gaussian', show_components=True)\n"
   ]
  },
  {
   "cell_type": "code",
   "execution_count": 44,
   "metadata": {},
   "outputs": [
    {
     "data": {
      "application/vnd.jupyter.widget-view+json": {
       "model_id": "db4105cd4067467c96b5075f4a18bd45",
       "version_major": 2,
       "version_minor": 0
      },
      "text/plain": [
       "FigureCanvasNbAgg()"
      ]
     },
     "metadata": {},
     "output_type": "display_data"
    },
    {
     "name": "stderr",
     "output_type": "stream",
     "text": [
      "\n",
      "Legend.draggable() is drepecated in favor of Legend.set_draggable(). Legend.draggable may be reintroduced as a property in future releases.\n"
     ]
    }
   ],
   "source": [
    "#spec.plotter(errstyle='fill')\n",
    "spec.plotter()\n",
    "spec.specfit.plot_fit()\n"
   ]
  },
  {
   "cell_type": "code",
   "execution_count": 26,
   "metadata": {},
   "outputs": [
    {
     "data": {
      "text/plain": [
       "[Param #0   AMPLITUDE0 =      1481.44 +/-         396.076 ,\n",
       " Param #1       SHIFT0 =      6563.24 +/-        0.509914 ,\n",
       " Param #2       WIDTH0 =      1.20241 +/-        0.570402   Range:   [0,inf),\n",
       " Param #3   AMPLITUDE1 =     -2266.57 +/-         486.586 ,\n",
       " Param #4       SHIFT1 =      6566.77 +/-        0.300848 ,\n",
       " Param #5       WIDTH1 =     0.920628 +/-        0.368609   Range:   [0,inf)]"
      ]
     },
     "execution_count": 26,
     "metadata": {},
     "output_type": "execute_result"
    }
   ],
   "source": [
    "spec.specfit.parinfo\n"
   ]
  },
  {
   "cell_type": "markdown",
   "metadata": {},
   "source": [
    "# A\n",
    "https://github.com/pyspeckit/pyspeckit/blob/master/examples/sn_example.py\n",
    "    \n",
    "Se ve bien\n",
    "https://pyspeckit.readthedocs.io/en/latest/example_sdss.html#"
   ]
  },
  {
   "cell_type": "code",
   "execution_count": null,
   "metadata": {},
   "outputs": [],
   "source": []
  }
 ],
 "metadata": {
  "kernelspec": {
   "display_name": "Python 3",
   "language": "python",
   "name": "python3"
  },
  "language_info": {
   "codemirror_mode": {
    "name": "ipython",
    "version": 3
   },
   "file_extension": ".py",
   "mimetype": "text/x-python",
   "name": "python",
   "nbconvert_exporter": "python",
   "pygments_lexer": "ipython3",
   "version": "3.7.2"
  }
 },
 "nbformat": 4,
 "nbformat_minor": 2
}
