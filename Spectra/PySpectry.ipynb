{
 "cells": [
  {
   "cell_type": "code",
   "execution_count": 5,
   "metadata": {},
   "outputs": [],
   "source": [
    "import pyspeckit as ps\n",
    "from astropy.io import fits\n",
    "%matplotlib widget"
   ]
  },
  {
   "cell_type": "code",
   "execution_count": 6,
   "metadata": {},
   "outputs": [
    {
     "name": "stderr",
     "output_type": "stream",
     "text": [
      "'10**(-20)*erg/s/cm**2/Angstrom' contains multiple slashes, which is discouraged by the FITS standard\n"
     ]
    }
   ],
   "source": [
    "f = fits.open('../Observation1/data/FixedAstrometryDATACUBE_FINAL.fits')\n",
    "\n",
    "c = ps.Cube(f[1])"
   ]
  },
  {
   "cell_type": "code",
   "execution_count": 29,
   "metadata": {},
   "outputs": [
    {
     "data": {
      "application/vnd.jupyter.widget-view+json": {
       "model_id": "920fc467e5884f0baffa4519f4c91f1b",
       "version_major": 2,
       "version_minor": 0
      },
      "text/plain": [
       "FigureCanvasNbAgg()"
      ]
     },
     "metadata": {},
     "output_type": "display_data"
    }
   ],
   "source": [
    "\n",
    "\n",
    "\n",
    "\n",
    "\n",
    "spec = c.get_apspec((78.478, 39.38, 2), method='sum') \n",
    "\n",
    "back = c.get_apspec((61.657, 36.675, 2), method='sum')   \n",
    "\n",
    "\n",
    "\n",
    "spec.baseline(exclude=[6550,6580], order=1)\n",
    "spec.crop(6500., 6600, unit='angstrom') \n",
    "#spec.plotter(xmin = 6450, xmax = 6775, ymin = 5000, ymax = 1500)\n",
    "\n",
    "spec.plotter()\n",
    "#s = spec-back\n",
    "spec.specfit(guesses=[370.,6564.,1., -2.9e3,6567.,1.], \n",
    "             fittype='gaussian', show_components=True, annotate = False)\n",
    "\n",
    "#spec.plotter.line_ids(['H$\\alpha$'],[6562.8],xval_units='angstrom')\n"
   ]
  },
  {
   "cell_type": "code",
   "execution_count": 30,
   "metadata": {},
   "outputs": [],
   "source": [
    "y = spec.plotter.ymax * 0.85    # Location of annotations in y\n",
    "\n",
    "\n",
    "spec.measure()\n",
    "spec.measurements.lines\n",
    "\n",
    "\n",
    "for i, line in enumerate(spec.measurements.lines.keys()):\n",
    "\n",
    "    # If this line is not in our database of lines, don't try to annotate it\n",
    "    if line not in spec.speclines.optical.lines.keys(): continue\n",
    "\n",
    "    x = spec.measurements.lines[line]['modelpars'][1]   # Location of the emission line\n",
    "    # Draw dashed line to mark its position\n",
    "    spec.plotter.axis.plot([x]*2, [spec.plotter.ymin, spec.plotter.ymax],\n",
    "                           ls='--', color='k')\n",
    "    # Label it\n",
    "    spec.plotter.axis.annotate(spec.speclines.optical.lines[line][-1], (x, y),\n",
    "                               rotation = 90, ha = 'right', va = 'center')\n",
    "# Make some nice axis labels\n",
    "spec.plotter.axis.set_xlabel(r'Wavelength $(\\AA)$')\n",
    "spec.plotter.axis.set_ylabel(r'Flux $(10^{-17} \\mathrm{erg/s/cm^2/\\AA})$')\n",
    "spec.plotter.refresh()"
   ]
  },
  {
   "cell_type": "markdown",
   "metadata": {},
   "source": [
    "# A\n",
    "https://github.com/pyspeckit/pyspeckit/blob/master/examples/sn_example.py\n",
    "    \n",
    "Se ve bien\n",
    "s"
   ]
  },
  {
   "cell_type": "code",
   "execution_count": null,
   "metadata": {},
   "outputs": [],
   "source": []
  }
 ],
 "metadata": {
  "kernelspec": {
   "display_name": "Python 3",
   "language": "python",
   "name": "python3"
  },
  "language_info": {
   "codemirror_mode": {
    "name": "ipython",
    "version": 3
   },
   "file_extension": ".py",
   "mimetype": "text/x-python",
   "name": "python",
   "nbconvert_exporter": "python",
   "pygments_lexer": "ipython3",
   "version": "3.7.2"
  }
 },
 "nbformat": 4,
 "nbformat_minor": 2
}
