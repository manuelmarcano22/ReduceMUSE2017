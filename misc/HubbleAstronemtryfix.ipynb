{
 "cells": [
  {
   "cell_type": "code",
   "execution_count": 2,
   "metadata": {},
   "outputs": [],
   "source": [
    "from pyraf import iraf"
   ]
  },
  {
   "cell_type": "markdown",
   "metadata": {},
   "source": [
    "Some stars from the Gaia 2 catalog and got the RA and DEC J2000 of the souces and where it seems to agree with my image\n",
    "\n",
    "![](screencatalog.png)"
   ]
  },
  {
   "cell_type": "code",
   "execution_count": 20,
   "metadata": {},
   "outputs": [
    {
     "name": "stdout",
     "output_type": "stream",
     "text": [
      "Refsystem: j2000  Coordinates: equatorial FK5\n",
      "    Equinox: J2000.000 Epoch: J2000.00000000 MJD: 51544.50000\n",
      "Insystem: j2000  Coordinates: equatorial FK5\n",
      "    Equinox: J2000.000 Epoch: J2000.00000000 MJD: 51544.50000\n",
      "\n",
      "Coords File: liststars.txt  Image: hubblef606wimg.fits\n",
      "    Database: coord.db  Solution: hubblef606wimg.fits\n",
      "Coordinate mapping status\n",
      "    XI fit ok.  ETA fit ok.\n",
      "    Ra/Dec or Long/Lat fit rms: 0.305  1.67   (arcsec  arcsec)\n",
      "Coordinate mapping parameters\n",
      "    Sky projection geometry: tan\n",
      "    Reference point: 265:10:20.94  -53:40:25.56  (degrees  degrees)\n",
      "    Reference point: 2973.997  3003.993  (pixels  pixels)\n",
      "    X and Y scale: 0.050  0.054  (arcsec/pixel  arcsec/pixel)\n",
      "    X and Y axis rotation: 184.991  1.304  (degrees  degrees)\n",
      "Wcs mapping status\n",
      "    Ra/Dec or Long/Lat wcs rms: 0.305  1.67   (arcsec  arcsec)\n",
      "Updating image header wcs\n",
      "\n"
     ]
    }
   ],
   "source": [
    "iraf.ccmap('liststars.txt', 'coord.db',results='resultccmap.txt',image='hubblef606wimg.fits',xcol=3,ycol=4,\n",
    "           lngcol=1,latcol=2,lngunits='degrees',latunits='degrees',\n",
    "           interactive='no',update='yes')"
   ]
  },
  {
   "cell_type": "markdown",
   "metadata": {},
   "source": [
    "#  ccsetwcs -- create an image wcs from a plate solution "
   ]
  },
  {
   "cell_type": "code",
   "execution_count": null,
   "metadata": {},
   "outputs": [],
   "source": []
  }
 ],
 "metadata": {
  "kernelspec": {
   "display_name": "Python 2",
   "language": "python",
   "name": "python2"
  },
  "language_info": {
   "codemirror_mode": {
    "name": "ipython",
    "version": 2
   },
   "file_extension": ".py",
   "mimetype": "text/x-python",
   "name": "python",
   "nbconvert_exporter": "python",
   "pygments_lexer": "ipython2",
   "version": "2.7.15"
  }
 },
 "nbformat": 4,
 "nbformat_minor": 2
}
